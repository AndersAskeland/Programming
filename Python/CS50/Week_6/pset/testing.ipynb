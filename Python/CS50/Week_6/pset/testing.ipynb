{
 "metadata": {
  "language_info": {
   "codemirror_mode": {
    "name": "ipython",
    "version": 3
   },
   "file_extension": ".py",
   "mimetype": "text/x-python",
   "name": "python",
   "nbconvert_exporter": "python",
   "pygments_lexer": "ipython3",
   "version": "3.8.2-final"
  },
  "orig_nbformat": 2,
  "kernelspec": {
   "name": "python38264bit2361a12f2b314dee9d1a23c821581cbe",
   "display_name": "Python 3.8.2 64-bit"
  }
 },
 "nbformat": 4,
 "nbformat_minor": 2,
 "cells": [
  {
   "cell_type": "code",
   "execution_count": 18,
   "metadata": {
    "tags": []
   },
   "outputs": [
    {
     "output_type": "stream",
     "name": "stdout",
     "text": "\n\n#\n\n##\n\n###\n\n####\n\n#####\n\n"
    }
   ],
   "source": [
    "from cs50 import get_int\n",
    "\n",
    "height = 5\n",
    "\n",
    "\n",
    "\n",
    "## Hashes\n",
    "for i in range(height+1):\n",
    "    for j in range(i):\n",
    "        print(\"#\", end = \"\")\n",
    "    for k in range(i):\n",
    "        print(\"   \", end = \"\")\n",
    "    print(\"\\n\")\n",
    "    "
   ]
  },
  {
   "cell_type": "code",
   "execution_count": 25,
   "metadata": {},
   "outputs": [
    {
     "output_type": "execute_result",
     "data": {
      "text/plain": "100"
     },
     "metadata": {},
     "execution_count": 25
    }
   ],
   "source": [
    "1002 % 10\n",
    "\n",
    "round(1002 / 10)"
   ]
  },
  {
   "cell_type": "code",
   "execution_count": null,
   "metadata": {},
   "outputs": [],
   "source": [
    "round(0.1)"
   ]
  }
 ]
}